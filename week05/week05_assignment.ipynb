{
 "cells": [
  {
   "cell_type": "markdown",
   "metadata": {
    "nbgrader": {
     "grade": false,
     "grade_id": "intro",
     "locked": true,
     "schema_version": 1,
     "solution": false
    }
   },
   "source": [
    "# Week 5 Exercises\n",
    "\n",
    "_McKinney 3.2_\n",
    "\n",
    "**Unlike in previous weeks, in the exercises below, you will need to create a function definition from scratch.  I'll provide specific instructions and examples for how it will be used, but you will have to do the work of definiging the whole function.**"
   ]
  },
  {
   "cell_type": "markdown",
   "metadata": {},
   "source": [
    "### 21.1 What does the keyword `def` mean before a function name?\n",
    "\n",
    "> A) _define_ - You are saying that this is the function definition\n",
    ">\n",
    "> B) _default_ - This is the default work the function should do\n",
    ">\n",
    "> C) _def_ - Doesn't stand for anything, it's just what you put there\n",
    ">\n",
    "> D) _defer_ - Meaning don't do anything right now"
   ]
  },
  {
   "cell_type": "code",
   "execution_count": 1,
   "metadata": {},
   "outputs": [],
   "source": [
    "answer211 = \"A\""
   ]
  },
  {
   "cell_type": "markdown",
   "metadata": {},
   "source": [
    "### 21.2 What is the minimum number of parameters that you have to provide for this function to work?\n",
    "\n",
    "```python\n",
    "def my_function (fname='John', lname='Doe', gender='M'):\n",
    "    ...\n",
    "```\n",
    "\n",
    "> A) 3\n",
    ">\n",
    "> B) 2\n",
    ">\n",
    "> C) 1\n",
    ">\n",
    "> D) 0"
   ]
  },
  {
   "cell_type": "code",
   "execution_count": 2,
   "metadata": {},
   "outputs": [],
   "source": [
    "answer212 = \"A\""
   ]
  },
  {
   "cell_type": "markdown",
   "metadata": {},
   "source": [
    "### 21.3 Which of the following lines of code does not have any functions in it?\n",
    "\n",
    "\n",
    "> A) `value = math.log(23,2)`\n",
    ">\n",
    "> B) `pi * (radius ** 2)`\n",
    ">\n",
    "> C) `[ x for x in range(10) ]`\n",
    ">\n",
    "> D) `print('I am a good student')`"
   ]
  },
  {
   "cell_type": "code",
   "execution_count": 3,
   "metadata": {},
   "outputs": [],
   "source": [
    "answer213 = \"D\""
   ]
  },
  {
   "cell_type": "markdown",
   "metadata": {},
   "source": [
    "### 22.1 Which is true about docstrings?\n",
    "\n",
    "> A) They are stored in Python as just a long string inside the function definition.\n",
    ">\n",
    "> B) They can contain tests to help you demonstrate your code works correctly.\n",
    ">\n",
    "> C) They tell Python what to say when someone asks for `help()` on your function.\n",
    ">\n",
    "> D) All of these"
   ]
  },
  {
   "cell_type": "code",
   "execution_count": 4,
   "metadata": {},
   "outputs": [],
   "source": [
    "answer222 = \"D\""
   ]
  },
  {
   "cell_type": "markdown",
   "metadata": {},
   "source": [
    "### 22.2 True or False: From now on you should include docstrings in the _applied_ homework assignments?\n",
    "\n",
    "Type `answer222 = True` or `answer222 = False` as your response"
   ]
  },
  {
   "cell_type": "code",
   "execution_count": 5,
   "metadata": {},
   "outputs": [],
   "source": [
    "answer222 = True"
   ]
  },
  {
   "cell_type": "markdown",
   "metadata": {},
   "source": [
    "### 23.1 Which of the following are typical ways of encapsulating logical rules or mapping in Python?\n",
    "\n",
    "> A) dict\n",
    ">\n",
    "> B) str\n",
    ">\n",
    "> C) function\n",
    ">\n",
    "> D) A and C\n",
    ">\n",
    "> E) None of these"
   ]
  },
  {
   "cell_type": "code",
   "execution_count": 6,
   "metadata": {},
   "outputs": [],
   "source": [
    "answer231 = \"C\""
   ]
  },
  {
   "cell_type": "markdown",
   "metadata": {},
   "source": [
    "### 23.2 What does DRY stand for?\n",
    "\n",
    "\n",
    "> A) Do not repeat yourself\n",
    ">\n",
    "> B) Do not repeat yourself\n",
    ">\n",
    "> C) Do not repeat yourself\n",
    ">\n",
    "> D) All of the above"
   ]
  },
  {
   "cell_type": "code",
   "execution_count": 7,
   "metadata": {},
   "outputs": [],
   "source": [
    "answer232 = \"D\""
   ]
  },
  {
   "cell_type": "markdown",
   "metadata": {},
   "source": [
    "### 24.1 When Python tells you there's been an exception, what is the key word that we use in our Python code to indicate how Python should react to that exception?\n",
    "\n",
    "> A) Throw\n",
    ">\n",
    "> B) Raise\n",
    ">\n",
    "> C) Except\n",
    ">\n",
    "> D) Crash"
   ]
  },
  {
   "cell_type": "code",
   "execution_count": 8,
   "metadata": {},
   "outputs": [],
   "source": [
    "answer241 = \"B\""
   ]
  },
  {
   "cell_type": "markdown",
   "metadata": {},
   "source": [
    "### 24.2 When you, as the programmer, want to notify Python that an exception should be triggered, what is the key word we use for that?\n",
    "\n",
    "> A) Throw\n",
    ">\n",
    "> B) Raise\n",
    ">\n",
    "> C) Except\n",
    ">\n",
    "> D) Crash"
   ]
  },
  {
   "cell_type": "code",
   "execution_count": 9,
   "metadata": {},
   "outputs": [],
   "source": [
    "answer242 = \"A\""
   ]
  },
  {
   "cell_type": "markdown",
   "metadata": {
    "nbgrader": {
     "grade": false,
     "grade_id": "longest",
     "locked": true,
     "schema_version": 1,
     "solution": false
    }
   },
   "source": [
    "### 25.1 Longest String\n",
    "\n",
    "Write a function called `longest (L)` that takes as its only parameter a list of strings.  Your function needs to find the longest of those strings and return the position number of that longest string.  An example is provided below:\n",
    "\n",
    "The longest word in that list of strings is \"birthday\" in position #1, so `longest(strings)` should return 1.\n",
    "```\n",
    ">>> strings = ['happy', 'birthday', 'to', 'me']\n",
    ">>> longest(strings)\n",
    "1\n",
    "```\n",
    "\n",
    "Be sure to include a docstring.  Include test cases in your docstring if you want to."
   ]
  },
  {
   "cell_type": "code",
   "execution_count": 68,
   "metadata": {
    "nbgrader": {
     "grade": false,
     "grade_id": "longest-answer",
     "locked": false,
     "schema_version": 1,
     "solution": true
    }
   },
   "outputs": [
    {
     "name": "stdout",
     "output_type": "stream",
     "text": [
      "1\n"
     ]
    }
   ],
   "source": [
    "### BEGIN SOLUTION\n",
    "strings = []\n",
    "strings.append('happy')\n",
    "strings.append('birthday')\n",
    "strings.append('to')\n",
    "strings.append('me')\n",
    "\n",
    "def longest(strings):\n",
    "    \"\"\"Using the max length of the index within strings to find the longest string\"\"\"\n",
    "    try:\n",
    "        y = strings.index(max(strings,key=len))\n",
    "        print(y)\n",
    "    except:\n",
    "        print(\"Wrong\")\n",
    "        \n",
    "    \n",
    "longest(strings)\n",
    "### END SOLUTION"
   ]
  },
  {
   "cell_type": "code",
   "execution_count": 84,
   "metadata": {
    "nbgrader": {
     "grade": true,
     "grade_id": "longest-tests",
     "locked": true,
     "points": 10,
     "schema_version": 1,
     "solution": false
    }
   },
   "outputs": [
    {
     "name": "stdout",
     "output_type": "stream",
     "text": [
      "1\n"
     ]
    },
    {
     "ename": "AssertionError",
     "evalue": "",
     "output_type": "error",
     "traceback": [
      "\u001b[0;31m---------------------------------------------------------------------------\u001b[0m",
      "\u001b[0;31mAssertionError\u001b[0m                            Traceback (most recent call last)",
      "\u001b[0;32m<ipython-input-84-704bb51fe9b4>\u001b[0m in \u001b[0;36m<module>\u001b[0;34m\u001b[0m\n\u001b[0;32m----> 1\u001b[0;31m \u001b[0;32massert\u001b[0m \u001b[0mlongest\u001b[0m\u001b[0;34m(\u001b[0m\u001b[0;34m\"happy birthday to me\"\u001b[0m\u001b[0;34m.\u001b[0m\u001b[0msplit\u001b[0m\u001b[0;34m(\u001b[0m\u001b[0;34m\" \"\u001b[0m\u001b[0;34m)\u001b[0m\u001b[0;34m)\u001b[0m \u001b[0;34m==\u001b[0m \u001b[0;36m1\u001b[0m\u001b[0;34m\u001b[0m\u001b[0;34m\u001b[0m\u001b[0m\n\u001b[0m\u001b[1;32m      2\u001b[0m \u001b[0;32massert\u001b[0m \u001b[0mlongest\u001b[0m\u001b[0;34m(\u001b[0m\u001b[0;34m\"enjoy class\"\u001b[0m\u001b[0;34m.\u001b[0m\u001b[0msplit\u001b[0m\u001b[0;34m(\u001b[0m\u001b[0;34m\" \"\u001b[0m\u001b[0;34m)\u001b[0m\u001b[0;34m)\u001b[0m \u001b[0;34m==\u001b[0m \u001b[0;36m0\u001b[0m\u001b[0;34m\u001b[0m\u001b[0;34m\u001b[0m\u001b[0m\n\u001b[1;32m      3\u001b[0m \u001b[0;32massert\u001b[0m \u001b[0mlongest\u001b[0m\u001b[0;34m(\u001b[0m\u001b[0;34m[\u001b[0m\u001b[0;34m'when'\u001b[0m\u001b[0;34m,\u001b[0m\u001b[0;34m'what'\u001b[0m\u001b[0;34m,\u001b[0m\u001b[0;34m'where'\u001b[0m\u001b[0;34m,\u001b[0m\u001b[0;34m'how'\u001b[0m\u001b[0;34m,\u001b[0m\u001b[0;34m'who'\u001b[0m\u001b[0;34m]\u001b[0m\u001b[0;34m)\u001b[0m \u001b[0;34m==\u001b[0m \u001b[0;36m2\u001b[0m\u001b[0;34m\u001b[0m\u001b[0;34m\u001b[0m\u001b[0m\n",
      "\u001b[0;31mAssertionError\u001b[0m: "
     ]
    }
   ],
   "source": [
    "assert longest(\"happy birthday to me\".split(\" \")) == 1\n",
    "assert longest(\"enjoy class\".split(\" \")) == 0\n",
    "assert longest(['when','what','where','how','who']) == 2"
   ]
  },
  {
   "cell_type": "markdown",
   "metadata": {
    "nbgrader": {
     "grade": false,
     "grade_id": "exception",
     "locked": true,
     "schema_version": 1,
     "solution": false
    }
   },
   "source": [
    "### 25.2 Exception Handling\n",
    "\n",
    "Write a function called `safe_average(L)` to calculate the average of a list of values.  If any of the values in the list are not valid numbers, then the function should simply ignore them and exclude from the average.  If none of the values are valid numbers, then the function should return None.\n",
    "\n",
    "Example:\n",
    "\n",
    "```\n",
    ">>> safe_average([100,200,'three'])\n",
    "150\n",
    "\n",
    ">>> safe_average(['one','two','three'])\n",
    "None\n",
    "```"
   ]
  },
  {
   "cell_type": "code",
   "execution_count": 82,
   "metadata": {
    "nbgrader": {
     "grade": false,
     "grade_id": "exception-answer",
     "locked": false,
     "schema_version": 1,
     "solution": true
    }
   },
   "outputs": [
    {
     "data": {
      "text/plain": [
       "150.0"
      ]
     },
     "execution_count": 82,
     "metadata": {},
     "output_type": "execute_result"
    }
   ],
   "source": [
    "### BEGIN SOLUTION\n",
    "L =[100,200,'three']\n",
    "\n",
    "def safe_average(L):\n",
    "    \"\"\"Taking the sum of i in L if the instance is int or float then dividing by the length of L where the instance is int or float\"\"\"\n",
    "    try:\n",
    "        return (sum([i for i in L if isinstance(i,(int,float))])/len([i for i in L if isinstance(i,(int,float))]))\n",
    "    except:\n",
    "        print('None')\n",
    "        \n",
    "safe_average(L)\n",
    "### END SOLUTION"
   ]
  },
  {
   "cell_type": "code",
   "execution_count": 83,
   "metadata": {
    "nbgrader": {
     "grade": true,
     "grade_id": "exception-tests",
     "locked": true,
     "points": 10,
     "schema_version": 1,
     "solution": false
    }
   },
   "outputs": [
    {
     "name": "stdout",
     "output_type": "stream",
     "text": [
      "None\n"
     ]
    }
   ],
   "source": [
    "assert safe_average([1,2,3]) == 2\n",
    "assert safe_average([1,'two',3]) == 2\n",
    "assert safe_average(['one','two','three']) == None"
   ]
  },
  {
   "cell_type": "markdown",
   "metadata": {},
   "source": [
    "---\n",
    "\n",
    "## Rubric for 25.1 and 25.2\n",
    "\n",
    "* Create a properly working function\n",
    "* Follow good practices for naming the function and its parameters\n",
    "* Provide meaningful documentation\n",
    "* Provide sufficient docstring tests"
   ]
  }
 ],
 "metadata": {
  "celltoolbar": "Create Assignment",
  "kernelspec": {
   "display_name": "Python 3",
   "language": "python",
   "name": "python3"
  },
  "language_info": {
   "codemirror_mode": {
    "name": "ipython",
    "version": 3
   },
   "file_extension": ".py",
   "mimetype": "text/x-python",
   "name": "python",
   "nbconvert_exporter": "python",
   "pygments_lexer": "ipython3",
   "version": "3.6.7"
  }
 },
 "nbformat": 4,
 "nbformat_minor": 2
}
