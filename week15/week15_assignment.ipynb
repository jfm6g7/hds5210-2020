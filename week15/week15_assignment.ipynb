{
 "cells": [
  {
   "cell_type": "markdown",
   "metadata": {
    "nbgrader": {
     "grade": false,
     "grade_id": "intro",
     "locked": true,
     "schema_version": 1,
     "solution": false
    }
   },
   "source": [
    "# Working with a database\n",
    "\n",
    "This week's assignment has a few basic steps.  First, we're going to pull some data down off the internet and store it into our MySQL database.  Make sure that you use your username as part of the table name as show in the examples so that you don't create a problem for other students.\n",
    "\n",
    "Then, we'll merge that with some data already in the database and calculate a few results.  When it comes to calculating the results, you can do so either with SQL or with Pandas operations.\n"
   ]
  },
  {
   "cell_type": "markdown",
   "metadata": {
    "nbgrader": {
     "grade": false,
     "grade_id": "q01-intro",
     "locked": true,
     "schema_version": 1,
     "solution": false
    }
   },
   "source": [
    "## PART 1: Setup your database connection and table name\n",
    "\n",
    "In the code below, change the value of the variable `MYTABLE` to use your own username rather that `'pboal'`\n",
    "\n",
    "You can then use `MYTABLE` in the rest of your code to reference that table name."
   ]
  },
  {
   "cell_type": "code",
   "execution_count": 1,
   "metadata": {
    "nbgrader": {
     "grade": false,
     "grade_id": "q01-solution",
     "locked": false,
     "schema_version": 1,
     "solution": true
    }
   },
   "outputs": [],
   "source": [
    "#!#!#!#!#!#!#!#!#!#!#!#!#!#!#!#!#!#!#!#!#!#!#!#!#!#!#!#!#!#!\n",
    "# First, put in your user name below\n",
    "#!#!#!#!#!#!#!#!#!#!#!#!#!#!#!#!#!#!#!#!#!#!#!#!#!#!#!#!#!#!\n",
    "import os\n",
    "import pymysql\n",
    "from sqlalchemy import create_engine\n",
    "import pandas as pd\n",
    "\n",
    "host = 'slucor2020.cgdcoitnku0k.us-east-1.rds.amazonaws.com'\n",
    "port = '3306'\n",
    "user = 'slucor2020'\n",
    "password = 'SLUcor2020'\n",
    "database = 'hds5210'\n",
    "\n",
    "MYTABLE='jmccar23' + '_data'\n",
    "\n",
    "\n",
    "# Then, create a connection to the same database, using the \n",
    "# same user name and password in the `mysql-examples.ipynb` \n",
    "# file.  Use conn as the database connection variable.\n",
    "\n",
    "conn = create_engine('mysql+pymysql://' + \n",
    "                     user + ':' + \n",
    "                     password + '@' + \n",
    "                     host + '/' + \n",
    "                     database, echo=False)\n"
   ]
  },
  {
   "cell_type": "code",
   "execution_count": null,
   "metadata": {
    "nbgrader": {
     "grade": true,
     "grade_id": "q01-tests",
     "locked": true,
     "points": 5,
     "schema_version": 1,
     "solution": false
    }
   },
   "outputs": [],
   "source": [
    "assert(MYTABLE != 'paulboal_data')\n",
    "assert(conn.connect())"
   ]
  },
  {
   "cell_type": "markdown",
   "metadata": {
    "nbgrader": {
     "grade": false,
     "grade_id": "q02-intro",
     "locked": true,
     "schema_version": 1,
     "solution": false
    }
   },
   "source": [
    "## PART 2: Bring in outside data\n",
    "\n",
    "Grab the data from this URL and put it into a database table named with your `username_data`.\n",
    "\n",
    "http://dhcs-chhsagency.opendata.arcgis.com/datasets/8e4f3a0c75b9424d888d11c1f949cc32_0.csv\n",
    "\n",
    "By the end of your cell, the table should be created.  The tests are going to verify that the table exists and looks right."
   ]
  },
  {
   "cell_type": "code",
   "execution_count": 2,
   "metadata": {
    "nbgrader": {
     "grade": false,
     "grade_id": "q02-solution",
     "locked": false,
     "schema_version": 1,
     "solution": true
    }
   },
   "outputs": [
    {
     "ename": "ValueError",
     "evalue": "Table 'jmccar23_data' already exists.",
     "output_type": "error",
     "traceback": [
      "\u001b[0;31m---------------------------------------------------------------------------\u001b[0m",
      "\u001b[0;31mValueError\u001b[0m                                Traceback (most recent call last)",
      "\u001b[0;32m<ipython-input-2-31b2995e0db4>\u001b[0m in \u001b[0;36m<module>\u001b[0;34m\u001b[0m\n\u001b[1;32m      5\u001b[0m \u001b[0mdxyz\u001b[0m \u001b[0;34m=\u001b[0m \u001b[0mpd\u001b[0m\u001b[0;34m.\u001b[0m\u001b[0mDataFrame\u001b[0m\u001b[0;34m(\u001b[0m\u001b[0mdxyz\u001b[0m\u001b[0;34m)\u001b[0m\u001b[0;34m\u001b[0m\u001b[0;34m\u001b[0m\u001b[0m\n\u001b[1;32m      6\u001b[0m \u001b[0mconn\u001b[0m\u001b[0;34m.\u001b[0m\u001b[0mconnect\u001b[0m\u001b[0;34m(\u001b[0m\u001b[0;34m)\u001b[0m\u001b[0;34m\u001b[0m\u001b[0;34m\u001b[0m\u001b[0m\n\u001b[0;32m----> 7\u001b[0;31m \u001b[0mdxyz\u001b[0m\u001b[0;34m.\u001b[0m\u001b[0mto_sql\u001b[0m\u001b[0;34m(\u001b[0m\u001b[0;34m'jmccar23_data'\u001b[0m\u001b[0;34m,\u001b[0m\u001b[0mcon\u001b[0m\u001b[0;34m=\u001b[0m\u001b[0mconn\u001b[0m\u001b[0;34m)\u001b[0m\u001b[0;34m\u001b[0m\u001b[0;34m\u001b[0m\u001b[0m\n\u001b[0m\u001b[1;32m      8\u001b[0m \u001b[0;31m#pd.read_sql_query('SELECT * FROM ' + MYTABLE, conn)\u001b[0m\u001b[0;34m\u001b[0m\u001b[0;34m\u001b[0m\u001b[0;34m\u001b[0m\u001b[0m\n\u001b[1;32m      9\u001b[0m \u001b[0;34m\u001b[0m\u001b[0m\n",
      "\u001b[0;32m/opt/tljh/user/lib/python3.6/site-packages/pandas/core/generic.py\u001b[0m in \u001b[0;36mto_sql\u001b[0;34m(self, name, con, schema, if_exists, index, index_label, chunksize, dtype, method)\u001b[0m\n\u001b[1;32m   2710\u001b[0m             \u001b[0mchunksize\u001b[0m\u001b[0;34m=\u001b[0m\u001b[0mchunksize\u001b[0m\u001b[0;34m,\u001b[0m\u001b[0;34m\u001b[0m\u001b[0;34m\u001b[0m\u001b[0m\n\u001b[1;32m   2711\u001b[0m             \u001b[0mdtype\u001b[0m\u001b[0;34m=\u001b[0m\u001b[0mdtype\u001b[0m\u001b[0;34m,\u001b[0m\u001b[0;34m\u001b[0m\u001b[0;34m\u001b[0m\u001b[0m\n\u001b[0;32m-> 2712\u001b[0;31m             \u001b[0mmethod\u001b[0m\u001b[0;34m=\u001b[0m\u001b[0mmethod\u001b[0m\u001b[0;34m,\u001b[0m\u001b[0;34m\u001b[0m\u001b[0;34m\u001b[0m\u001b[0m\n\u001b[0m\u001b[1;32m   2713\u001b[0m         )\n\u001b[1;32m   2714\u001b[0m \u001b[0;34m\u001b[0m\u001b[0m\n",
      "\u001b[0;32m/opt/tljh/user/lib/python3.6/site-packages/pandas/io/sql.py\u001b[0m in \u001b[0;36mto_sql\u001b[0;34m(frame, name, con, schema, if_exists, index, index_label, chunksize, dtype, method)\u001b[0m\n\u001b[1;32m    516\u001b[0m         \u001b[0mchunksize\u001b[0m\u001b[0;34m=\u001b[0m\u001b[0mchunksize\u001b[0m\u001b[0;34m,\u001b[0m\u001b[0;34m\u001b[0m\u001b[0;34m\u001b[0m\u001b[0m\n\u001b[1;32m    517\u001b[0m         \u001b[0mdtype\u001b[0m\u001b[0;34m=\u001b[0m\u001b[0mdtype\u001b[0m\u001b[0;34m,\u001b[0m\u001b[0;34m\u001b[0m\u001b[0;34m\u001b[0m\u001b[0m\n\u001b[0;32m--> 518\u001b[0;31m         \u001b[0mmethod\u001b[0m\u001b[0;34m=\u001b[0m\u001b[0mmethod\u001b[0m\u001b[0;34m,\u001b[0m\u001b[0;34m\u001b[0m\u001b[0;34m\u001b[0m\u001b[0m\n\u001b[0m\u001b[1;32m    519\u001b[0m     )\n\u001b[1;32m    520\u001b[0m \u001b[0;34m\u001b[0m\u001b[0m\n",
      "\u001b[0;32m/opt/tljh/user/lib/python3.6/site-packages/pandas/io/sql.py\u001b[0m in \u001b[0;36mto_sql\u001b[0;34m(self, frame, name, if_exists, index, index_label, schema, chunksize, dtype, method)\u001b[0m\n\u001b[1;32m   1317\u001b[0m             \u001b[0mdtype\u001b[0m\u001b[0;34m=\u001b[0m\u001b[0mdtype\u001b[0m\u001b[0;34m,\u001b[0m\u001b[0;34m\u001b[0m\u001b[0;34m\u001b[0m\u001b[0m\n\u001b[1;32m   1318\u001b[0m         )\n\u001b[0;32m-> 1319\u001b[0;31m         \u001b[0mtable\u001b[0m\u001b[0;34m.\u001b[0m\u001b[0mcreate\u001b[0m\u001b[0;34m(\u001b[0m\u001b[0;34m)\u001b[0m\u001b[0;34m\u001b[0m\u001b[0;34m\u001b[0m\u001b[0m\n\u001b[0m\u001b[1;32m   1320\u001b[0m         \u001b[0mtable\u001b[0m\u001b[0;34m.\u001b[0m\u001b[0minsert\u001b[0m\u001b[0;34m(\u001b[0m\u001b[0mchunksize\u001b[0m\u001b[0;34m,\u001b[0m \u001b[0mmethod\u001b[0m\u001b[0;34m=\u001b[0m\u001b[0mmethod\u001b[0m\u001b[0;34m)\u001b[0m\u001b[0;34m\u001b[0m\u001b[0;34m\u001b[0m\u001b[0m\n\u001b[1;32m   1321\u001b[0m         \u001b[0;32mif\u001b[0m \u001b[0;32mnot\u001b[0m \u001b[0mname\u001b[0m\u001b[0;34m.\u001b[0m\u001b[0misdigit\u001b[0m\u001b[0;34m(\u001b[0m\u001b[0;34m)\u001b[0m \u001b[0;32mand\u001b[0m \u001b[0;32mnot\u001b[0m \u001b[0mname\u001b[0m\u001b[0;34m.\u001b[0m\u001b[0mislower\u001b[0m\u001b[0;34m(\u001b[0m\u001b[0;34m)\u001b[0m\u001b[0;34m:\u001b[0m\u001b[0;34m\u001b[0m\u001b[0;34m\u001b[0m\u001b[0m\n",
      "\u001b[0;32m/opt/tljh/user/lib/python3.6/site-packages/pandas/io/sql.py\u001b[0m in \u001b[0;36mcreate\u001b[0;34m(self)\u001b[0m\n\u001b[1;32m    642\u001b[0m             \u001b[0;32mif\u001b[0m \u001b[0mself\u001b[0m\u001b[0;34m.\u001b[0m\u001b[0mif_exists\u001b[0m \u001b[0;34m==\u001b[0m \u001b[0;34m\"fail\"\u001b[0m\u001b[0;34m:\u001b[0m\u001b[0;34m\u001b[0m\u001b[0;34m\u001b[0m\u001b[0m\n\u001b[1;32m    643\u001b[0m                 raise ValueError(\n\u001b[0;32m--> 644\u001b[0;31m                     \u001b[0;34m\"Table '{name}' already exists.\"\u001b[0m\u001b[0;34m.\u001b[0m\u001b[0mformat\u001b[0m\u001b[0;34m(\u001b[0m\u001b[0mname\u001b[0m\u001b[0;34m=\u001b[0m\u001b[0mself\u001b[0m\u001b[0;34m.\u001b[0m\u001b[0mname\u001b[0m\u001b[0;34m)\u001b[0m\u001b[0;34m\u001b[0m\u001b[0;34m\u001b[0m\u001b[0m\n\u001b[0m\u001b[1;32m    645\u001b[0m                 )\n\u001b[1;32m    646\u001b[0m             \u001b[0;32melif\u001b[0m \u001b[0mself\u001b[0m\u001b[0;34m.\u001b[0m\u001b[0mif_exists\u001b[0m \u001b[0;34m==\u001b[0m \u001b[0;34m\"replace\"\u001b[0m\u001b[0;34m:\u001b[0m\u001b[0;34m\u001b[0m\u001b[0;34m\u001b[0m\u001b[0m\n",
      "\u001b[0;31mValueError\u001b[0m: Table 'jmccar23_data' already exists."
     ]
    }
   ],
   "source": [
    "import mysql.connector\n",
    "\n",
    "url = 'http://dhcs-chhsagency.opendata.arcgis.com/datasets/8e4f3a0c75b9424d888d11c1f949cc32_0.csv'\n",
    "dxyz = pd.read_csv(url)\n",
    "dxyz = pd.DataFrame(dxyz)\n",
    "conn.connect()\n",
    "dxyz.to_sql('jmccar23_data',con=conn)\n",
    "#pd.read_sql_query('SELECT * FROM ' + MYTABLE, conn)\n",
    "\n",
    "### SOLUTION GOES HERE\n"
   ]
  },
  {
   "cell_type": "code",
   "execution_count": 3,
   "metadata": {
    "nbgrader": {
     "grade": true,
     "grade_id": "q02-tests",
     "locked": true,
     "points": 5,
     "schema_version": 1,
     "solution": false
    }
   },
   "outputs": [],
   "source": [
    "dxyz = pd.read_sql_query('SELECT * FROM ' + MYTABLE, conn)\n",
    "assert(dxyz.shape == (328,22))\n",
    "assert(list(dxyz.columns) == ['index', 'X', 'Y', 'Provider_Name', 'NPI', 'CCN',\n",
    "       'Medicaid_EP_Hospital_Type', 'Street_Address', 'City', 'County',\n",
    "       'State', 'Zip_Code', 'Payment_Year_Number', 'Program_Type',\n",
    "       'Total_payments', 'Last_Program_Year', 'Last_Payment_Year',\n",
    "       'Last_Payment_Criteria', 'Most_Recent_Disbursement_Amount', 'LONGITUDE',\n",
    "       'LATITUDE', 'FID'])"
   ]
  },
  {
   "cell_type": "markdown",
   "metadata": {
    "nbgrader": {
     "grade": false,
     "grade_id": "q03-intro",
     "locked": true,
     "schema_version": 1,
     "solution": false
    }
   },
   "source": [
    "## PART 3: Combine with other data in the database\n",
    "\n",
    "In the database, there is an existing table called `population`.  We want to merge the DHCS datafile loaded above with the population data available in this other database table  The tables can be merged on `MYTABLE`'s `Zip_Code` field and `population`'s `zipcode` field.\n",
    "\n",
    "Note that not all `Zip_Codes` from your downloaded file have to be in the `population` table.  If they aren't, then I want you to eliminate the non-matching records.  That is, only keep the records that have a matching ZIP code in both sets of data.\n",
    "\n",
    "Answer the question:\n",
    "Which providers are located in the zipcode with the largest population?\n",
    "\n",
    "Put your answer in the form `answer = ['a', 'list', 'of', 'NPI', 'like', '1593042103]`"
   ]
  },
  {
   "cell_type": "code",
   "execution_count": 4,
   "metadata": {
    "nbgrader": {
     "grade": false,
     "grade_id": "q03-solution",
     "locked": false,
     "schema_version": 1,
     "solution": true
    }
   },
   "outputs": [],
   "source": [
    "### SOLUTION GOES HERE\n",
    "answer = []\n",
    "\n",
    "dxyz = pd.read_sql_query('SELECT * FROM ' + MYTABLE, conn)\n",
    "jjaw = pd.read_sql_query('SELECT * FROM population', conn)\n",
    "#len(jjaw['zipcode'].unique())==len(dxyz['Zip_Code'].unique())\n",
    "jmac = dxyz['Zip_Code'].unique()\n",
    "\n",
    "#using 'jmac' didn't work, so I had to print it and copy and paste it\n",
    "djax = pd.read_sql_query('SELECT * FROM population WHERE zipcode IN (94114, 92843, 92307, 93637, 92592, 92395, 95065, 92868, 92404,94143, 92691, 92870, 92024, 95476, 92123, 95817, 95076, 94574,95901, 90804, 91754, 94110, 94598, 94609, 94115, 95337, 95405,91773, 91010, 91402, 93901, 96093, 91403, 93454, 95616, 91801,93420, 95376, 90089, 94538, 92311, 91355, 95370, 91786, 92805,92324, 94520, 92056, 94545, 96104, 94509, 95816, 92708, 90027,94533, 92555, 91356, 94546, 93545, 91206, 92037, 94531, 90806,92243, 92804, 94305, 95966, 90012, 93401, 90255, 94806, 93230,92835, 92801, 90048, 90095, 90503, 96028, 90023, 92627, 95695,93514, 93940, 90732, 95825, 90033, 95453, 91710, 93546, 95667,95608, 91723, 92705, 91763, 91741, 95336, 95231, 94133, 90301,91733, 90704, 95361, 95490, 95630, 95661, 91950, 92335, 93534,94589, 92354, 92064, 93306, 94403, 94063, 94553, 95020, 95382,94904, 91911, 93465, 96020, 91767, 91105, 95403, 91325, 95926,90623, 92869, 93240, 90404, 94611, 90026, 95124, 91436, 92028,92252, 93555, 95642, 92025, 92882, 95531, 92363, 94304, 90509,93301, 95823, 92585, 95948, 93105, 90502, 92201, 91345, 91706,91204, 96001, 96101, 95819, 90262, 91007, 93551, 90017, 95472,90020, 95249, 90242, 95340, 96067, 94010, 95969, 92663, 95521,91942, 95204, 95437, 95203, 96130, 96161, 91352, 92704, 92220,90720, 91405, 93291, 92563, 95501, 95988, 95355, 93003, 93405,93257, 90004, 90018, 91740, 95128, 92103, 95945, 95542, 96150,92120, 94705, 92270, 90605, 91401, 91307, 93635, 90602, 95540,92373, 90716, 92780, 90247, 93065, 95119, 92227, 92315, 93030,92647, 96080, 93720, 94602, 96097, 94945, 92262, 93721, 90706,90015, 92543, 90059, 93930, 92501, 90057, 95422, 91342, 90034,95932, 93215, 92807, 92118, 94015, 94117, 90640, 95350, 93210,90712, 95338, 90650, 92225, 93436, 95602, 95448, 90813, 93010,94903, 93308, 93906, 90232, 92866, 93111, 92503, 94501, 95482,94954, 94558, 92411, 92562, 90036, 92352, 93212, 90241, 93561,92653, 95023, 93636, 91776, 95116, 91367, 93274, 91360, 92505,93611, 94109, 95240, 96122, 95971, 95051, 93654, 91505, 90710)', conn)\n",
    "dxyz=dxyz.rename(columns={'Zip_Code':'zipcode'})\n",
    "\n",
    "dxyz = pd.concat([dxyz,djax],sort=True)\n",
    "\n",
    "xxxx=dxyz.nlargest(1,['population'])\n",
    "xxx=xxxx['zipcode']\n",
    "#print(xxx) to find the zipcode value of 90650\n",
    "xx=dxyz[dxyz['zipcode']==90650]['NPI']\n",
    "xx=int(xx)\n",
    "answer = [str(xx)]"
   ]
  },
  {
   "cell_type": "code",
   "execution_count": null,
   "metadata": {
    "nbgrader": {
     "grade": true,
     "grade_id": "q03-tests",
     "locked": true,
     "points": 5,
     "schema_version": 1,
     "solution": false
    }
   },
   "outputs": [],
   "source": [
    "assert(type(answer) == list)\n",
    "assert(answer == ['1194016923'])"
   ]
  },
  {
   "cell_type": "markdown",
   "metadata": {
    "nbgrader": {
     "grade": false,
     "grade_id": "q04-intro",
     "locked": true,
     "schema_version": 1,
     "solution": false
    }
   },
   "source": [
    "## PART 4: Total by hospital type\n",
    "\n",
    "This is a multistep process:\n",
    "* From our downloaded data file, compute the `Total payments` per ZIP code and Medicaid EP Hospital Type.\n",
    "* Then merge that with the `population` data to compute a `Total payments` per person.\n",
    "* Then average that across all of the `Medicaid EP Hospital Types` to get an average per persona payment for these type of hospital.\n",
    "\n",
    "Your answer should be in structure of a data frame with at least two columns:\n",
    "* Medicaid_EP_Hospital_Type\n",
    "* Avg_Pay_per_Capita"
   ]
  },
  {
   "cell_type": "code",
   "execution_count": 225,
   "metadata": {
    "nbgrader": {
     "grade": false,
     "grade_id": "q04-solution",
     "locked": false,
     "schema_version": 1,
     "solution": true
    }
   },
   "outputs": [],
   "source": [
    "### SOLUTION GOES HERE\n",
    "answer = None\n",
    "\n",
    "#pd.set_option('display.max_rows',3000)\n",
    "#pd.set_option('display.max_columns',365)\n",
    "\n",
    "pd.reset_option('display.max_rows')\n",
    "pd.reset_option('display.max_columns')\n",
    "\n",
    "\n",
    "z1 = dxyz.groupby('zipcode')['population']\n",
    "z2=pd.DataFrame(z1)\n",
    "\n",
    "z3=dxyz.groupby('zipcode')['Total_payments']\n",
    "z3=pd.DataFrame(z3)\n",
    "z3=z3.set_index(0)\n",
    "\n",
    "z2=z2.set_index(0)\n",
    "z4 = z2/z3\n",
    "\n",
    "z5=dxyz.groupby(['zipcode','Medicaid_EP_Hospital_Type'])\n",
    "z5=pd.DataFrame(z5)\n",
    "z5=z5.set_index(0)\n",
    "z5=z5.assign(Avg_Pay_per_Capita=z4)\n",
    "answer=z5\n",
    "#could not get z2 or z3 to give me the proper population and total payments in a way for me to divide them"
   ]
  },
  {
   "cell_type": "code",
   "execution_count": null,
   "metadata": {
    "nbgrader": {
     "grade": true,
     "grade_id": "q04-tests",
     "locked": true,
     "points": 5,
     "schema_version": 1,
     "solution": false
    }
   },
   "outputs": [],
   "source": [
    "assert(type(answer) == pd.core.frame.DataFrame)\n",
    "assert(round(answer.query(\"Medicaid_EP_Hospital_Type == 'Acute Care Hospitals'\")['Avg_Pay_per_Capita'].sum(),3) == 17974.363)\n",
    "assert(round(answer.query(\"Medicaid_EP_Hospital_Type == 'Children\\\\'s Hospitals'\")['Avg_Pay_per_Capita'].sum(),3) == 111.559)\n"
   ]
  }
 ],
 "metadata": {
  "celltoolbar": "Create Assignment",
  "kernelspec": {
   "display_name": "Python 3",
   "language": "python",
   "name": "python3"
  },
  "language_info": {
   "codemirror_mode": {
    "name": "ipython",
    "version": 3
   },
   "file_extension": ".py",
   "mimetype": "text/x-python",
   "name": "python",
   "nbconvert_exporter": "python",
   "pygments_lexer": "ipython3",
   "version": "3.6.7"
  }
 },
 "nbformat": 4,
 "nbformat_minor": 2
}
