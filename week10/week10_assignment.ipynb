{
 "cells": [
  {
   "cell_type": "markdown",
   "metadata": {},
   "source": [
    "# Week 10 Assignment"
   ]
  },
  {
   "cell_type": "markdown",
   "metadata": {},
   "source": [
    "We had two major areas of discussion this week.  The first was all about how to work with string data - parsing and splitting strings using basic string fuctions as well as more complex string matching using regular expressions.  The second was a basic introduction to Pandas with a few different examples of how to load data into Pandas and then visualize it using graphs (histogram, distribution, scatter, bar, timeseries).\n",
    "\n",
    "* 36.1 - 1 point\n",
    "* 36.2 - 1 point\n",
    "* 38.1 - 3 points"
   ]
  },
  {
   "cell_type": "markdown",
   "metadata": {},
   "source": [
    "## 36.1 String Manipulation\n",
    "\n",
    "Write a function that will parse an address that includes one or two parts of street information, a city, a state, and a zip code -- all separated by commas.  You can assume that commas won't appear as part of the address information, only as a delimiter.  Here are some examples:\n",
    "\n",
    "823 Pebble Street, St. Louis, MO 63105\n",
    "\n",
    "91 Cityplace, Suite #33, St. Louis, MO 63144\n",
    "\n",
    "81234 Homeroad, Kansas City, MO 62441\n",
    "\n",
    "\n",
    "The output you should generate will be a dictionary with the following possible items.\n",
    "\n",
    "```\n",
    "{\n",
    "  'street1': '91 Cityplace',\n",
    "  'street2': 'Suite #33',\n",
    "  'city': 'St. Louis',\n",
    "  'state': 'MO',\n",
    "  'zip': '63122'\n",
    "}\n",
    "```\n",
    "\n",
    "Declare your function like this:\n",
    "```\n",
    "parse_address(address)\n",
    "```"
   ]
  },
  {
   "cell_type": "code",
   "execution_count": 115,
   "metadata": {},
   "outputs": [
    {
     "name": "stdout",
     "output_type": "stream",
     "text": [
      "{'street1': '823 Pebble Sreet', 'street2': 'N/A', 'city': ' St. Louis', 'state': 'MO', 'zip': '63105'}\n"
     ]
    }
   ],
   "source": [
    "### YOUR SOLUTION\n",
    "address1 = '823 Pebble Sreet, St. Louis, MO 63105'\n",
    "#address = address1.split(',')\n",
    "def one(address1):\n",
    "    \"\"\"Takes the input 'address1' and counts the length to see if it has an apartment, then assigns the values to their\n",
    "    given location and splits the state and address, that is based off of the standard state abreviation size\"\"\"\n",
    "    #How to make for loop with delimmiters?\n",
    "    address = address1.split(',')\n",
    "    x = {'street1':'',\n",
    "        'street2':'N/A',\n",
    "        'city':'',\n",
    "        'state':'',\n",
    "        'zip':''}\n",
    "    if len(address) == 3:\n",
    "        x.update(street1 = address[0])\n",
    "        x.update(city = address[1])\n",
    "        x.update(state = address[2][1:3])\n",
    "        x.update(zip = address[2][4:])\n",
    "    else:\n",
    "        x.update(street1 = address[0])\n",
    "        x.update(street2 = address[1])\n",
    "        x.update(city = address[2])\n",
    "        x.update(state = address[3][1:3])\n",
    "        x.update(zip = address[3][4:])\n",
    "    print(x)\n",
    "    \n",
    "one(address1)"
   ]
  },
  {
   "cell_type": "markdown",
   "metadata": {},
   "source": [
    "## 36.2 Test the Address Parser\n",
    "\n",
    "Now write a series of good tests to ensure that your addres parser is going to work with a variety of different inputs.  Include at least 5 different examples."
   ]
  },
  {
   "cell_type": "code",
   "execution_count": 37,
   "metadata": {},
   "outputs": [
    {
     "name": "stdout",
     "output_type": "stream",
     "text": [
      "{'street1': '2530 telegraph road', 'street2': 'b', 'city': 'St. Louis', 'state': 'MO', 'zip': '63125'}\n",
      "{'street1': '123 Main Street', 'street2': 'N/A', 'city': ' Columbia', 'state': 'MO', 'zip': '65203'}\n",
      "{'street1': '123 Main Street', 'street2': 'N/A', 'city': ' Chicago', 'state': 'IL', 'zip': '123456'}\n",
      "{'street1': '22 Acacia Avenue', 'street2': ' 5', 'city': ' New York', 'state': 'NY', 'zip': '666'}\n",
      "{'street1': '91 Cityplace', 'street2': ' Suite #33', 'city': ' St. Louis', 'state': 'MO', 'zip': '63144'}\n"
     ]
    }
   ],
   "source": [
    "address1 = '2530 telegraph road,b,St. Louis, MO 63125'\n",
    "one(address1)\n",
    "address1 = '123 Main Street, Columbia, MO 65203'\n",
    "one(address1)\n",
    "address1 = '123 Main Street, Chicago, IL 123456'\n",
    "one(address1)\n",
    "address1 = '22 Acacia Avenue, 5, New York, NY 666'\n",
    "one(address1)\n",
    "address1 = '91 Cityplace, Suite #33, St. Louis, MO 63144'\n",
    "one(address1)"
   ]
  },
  {
   "cell_type": "markdown",
   "metadata": {},
   "source": [
    "## 38.1 COVID-19 Trend Data\n",
    "\n",
    "Since we're dealing with a global pandemic right now, probably good to go ahead and do some anlysis with that data.  Take a look at what's here: https://ourworldindata.org/covid-sources-comparison\n",
    "\n",
    "Near the middle of the page, there are two charts with some data.  On the left is \"positive cases\" and on the right is \"deaths.\"  Both charts have a button that says \"Data.\"  What you will do below is write a series of Python commands (doesn't need to be in a function) to read that data and produce a simple timeseries chart using the information from John's Hopkins.  Your code will need to read the data, possibly do some reformatting, and then produce a simple timeseries chart.\n",
    "\n",
    "(Unfortunately, the tools used on this website don't make it easy to link to and directly download the data, so I've placed a copy in `/data/covid19.xlsx` for you to access.  This file came from one of the underlying sources: https://www.ecdc.europa.eu/en/publications-data/download-todays-data-geographic-distribution-covid-19-cases-worldwide)"
   ]
  },
  {
   "cell_type": "code",
   "execution_count": 114,
   "metadata": {},
   "outputs": [
    {
     "data": {
      "image/png": "[encoded data removed]",
      "text/plain": [
       "<Figure size 432x288 with 1 Axes>"
      ]
     },
     "metadata": {
      "needs_background": "light"
     },
     "output_type": "display_data"
    },
    {
     "data": {
      "image/png": "[encoded data removed]",
      "text/plain": [
       "<Figure size 432x288 with 1 Axes>"
      ]
     },
     "metadata": {
      "needs_background": "light"
     },
     "output_type": "display_data"
    }
   ],
   "source": [
    "import pandas as pd\n",
    "import matplotlib.pyplot as plt\n",
    "\n",
    "x = pd.read_csv('covid-cases-by-source.csv')\n",
    "jjaw = x[x['Code']=='USA']\n",
    "jjaw=jjaw['Johns Hopkins'].dropna()\n",
    "plt.plot(range(0,57),jjaw)\n",
    "plt.xlabel('Days Since 1st Case',fontsize=12)\n",
    "plt.ylabel('Total Cases',fontsize=12)\n",
    "plt.title(\"Cases in the US\",fontsize=20)\n",
    "plt.show()\n",
    "\n",
    "y = pd.read_csv('deaths-from-covid-by-source.csv')\n",
    "djax = y[y['Code']=='USA']\n",
    "djax=djax['Johns Hopkins'].dropna()\n",
    "plt.plot(range(0,57),djax)\n",
    "plt.xlabel('Days Since 1st Case',fontsize=12)\n",
    "plt.ylabel('Total Deaths',fontsize=12)\n",
    "plt.title(\"Deaths in the US\",fontsize=20)\n",
    "plt.show()"
   ]
  },
  {
   "cell_type": "markdown",
   "metadata": {},
   "source": [
    "One hint that you might find helpful while working on this is that the data in this file is the number of cases each week, not the running total.  You will want to plot a running total.\n",
    "\n",
    "To do so, pandas has a `.cumsum()` method that you can use after doing a `groupby` and a `.sum()` somewhat similar to the last example of the pandas-viz.ipynb file (except in that example, it's doing a `mean()` instead of `sum()` and a `rolling()` instead of `cumsum()`.)  This link might also provide a little guidance: https://stackoverflow.com/questions/48739374/pandas-plot-cumulative-sum-of-counters-over-time"
   ]
  },
  {
   "cell_type": "markdown",
   "metadata": {},
   "source": [
    "## Extra Challenges\n",
    "\n",
    "Take the same data, but not start looking at it by country.  Do some groupbys.\n",
    "\n",
    "Or take the same data and look at the mortality rate (deaths / total reported cases) and see how that is different by country or trending over time."
   ]
  },
  {
   "cell_type": "code",
   "execution_count": null,
   "metadata": {},
   "outputs": [],
   "source": []
  }
 ],
 "metadata": {
  "kernelspec": {
   "display_name": "Python 3",
   "language": "python",
   "name": "python3"
  },
  "language_info": {
   "codemirror_mode": {
    "name": "ipython",
    "version": 3
   },
   "file_extension": ".py",
   "mimetype": "text/x-python",
   "name": "python",
   "nbconvert_exporter": "python",
   "pygments_lexer": "ipython3",
   "version": "3.6.7"
  }
 },
 "nbformat": 4,
 "nbformat_minor": 4
}
